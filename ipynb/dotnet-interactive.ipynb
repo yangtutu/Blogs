{
 "cells": [
  {
   "cell_type": "markdown",
   "metadata": {
    "dotnet_interactive": {
     "language": "csharp"
    }
   },
   "source": [
    "### Say Hello World"
   ]
  },
  {
   "cell_type": "code",
   "execution_count": null,
   "metadata": {
    "dotnet_interactive": {
     "language": "csharp"
    }
   },
   "outputs": [
    {
     "name": "stdout",
     "output_type": "stream",
     "text": [
      "Hello World!\r\n"
     ]
    }
   ],
   "source": [
    "Console.WriteLine(\"Hello World!\");"
   ]
  },
  {
   "cell_type": "markdown",
   "metadata": {
    "dotnet_interactive": {
     "language": "csharp"
    }
   },
   "source": [
    "### 获取操作系统信息"
   ]
  },
  {
   "cell_type": "code",
   "execution_count": null,
   "metadata": {
    "dotnet_interactive": {
     "language": "csharp"
    }
   },
   "outputs": [
    {
     "name": "stdout",
     "output_type": "stream",
     "text": [
      "Microsoft Windows 10.0.19044\r\n"
     ]
    }
   ],
   "source": [
    "using System.Runtime.InteropServices;\n",
    "Console.WriteLine(RuntimeInformation.OSDescription);"
   ]
  },
  {
   "cell_type": "markdown",
   "metadata": {
    "dotnet_interactive": {
     "language": "pwsh"
    }
   },
   "source": [
    "### 通过 PowerShell 获取 .Net 版本"
   ]
  },
  {
   "cell_type": "code",
   "execution_count": null,
   "metadata": {
    "dotnet_interactive": {
     "language": "pwsh"
    }
   },
   "outputs": [
    {
     "name": "stdout",
     "output_type": "stream",
     "text": [
      "6.0.202\r\n"
     ]
    }
   ],
   "source": [
    "dotnet --version"
   ]
  },
  {
   "cell_type": "markdown",
   "metadata": {
    "dotnet_interactive": {
     "language": "pwsh"
    }
   },
   "source": [
    "### 通过代码获取 .Net 版本"
   ]
  },
  {
   "cell_type": "code",
   "execution_count": null,
   "metadata": {
    "dotnet_interactive": {
     "language": "csharp"
    }
   },
   "outputs": [
    {
     "name": "stdout",
     "output_type": "stream",
     "text": [
      "6.0.202\r\n",
      "\r\n"
     ]
    }
   ],
   "source": [
    "using System.Diagnostics;\n",
    "var info = new ProcessStartInfo\n",
    "{\n",
    "    RedirectStandardOutput = true\n",
    "};\n",
    "\n",
    "var isUnix = RuntimeInformation.IsOSPlatform(OSPlatform.OSX) || RuntimeInformation.IsOSPlatform(OSPlatform.Linux);\n",
    "\n",
    "if (isUnix)\n",
    "{\n",
    "    info.FileName = \"/bin/bash\";\n",
    "    info.Arguments = \"-c \\\"dotnet --version\\\"\";\n",
    "}\n",
    "else\n",
    "{\n",
    "    info.FileName = \"powershell\";\n",
    "    info.Arguments = \"dotnet --version\";\n",
    "}\n",
    "\n",
    "var process = Process.Start(info);\n",
    "if (process != null)\n",
    "{\n",
    "    var output = process.StandardOutput.ReadToEnd();\n",
    "    Console.WriteLine(output);\n",
    "}"
   ]
  }
 ],
 "metadata": {
  "kernelspec": {
   "display_name": ".NET (C#)",
   "language": "C#",
   "name": ".net-csharp"
  },
  "language_info": {
   "name": "C#"
  }
 },
 "nbformat": 4,
 "nbformat_minor": 2
}
